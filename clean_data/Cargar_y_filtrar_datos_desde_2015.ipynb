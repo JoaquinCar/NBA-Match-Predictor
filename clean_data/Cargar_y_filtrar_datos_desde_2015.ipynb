{
 "cells": [
  {
   "cell_type": "code",
   "execution_count": null,
   "id": "e4eda5c5",
   "metadata": {},
   "outputs": [
    {
     "name": "stderr",
     "output_type": "stream",
     "text": [
      "C:\\Users\\joaqu\\AppData\\Local\\Temp\\ipykernel_24192\\485265152.py:4: DtypeWarning: Columns (15) have mixed types. Specify dtype option on import or set low_memory=False.\n",
      "  games = pd.read_csv(\"../data/Games.csv\", parse_dates=[\"gameDate\"])\n"
     ]
    },
    {
     "name": "stdout",
     "output_type": "stream",
     "text": [
      "Games shape: (14414, 7)\n",
      "TeamStatistics shape: (28828, 17)\n",
      "Primeros juegos:\n",
      "          gameId            gameDate  hometeamName awayteamName  homeScore  \\\n",
      "14409  21400487 2015-01-02 19:30:00        Knicks      Pistons         81   \n",
      "14410  21400484 2015-01-02 19:00:00       Hornets    Cavaliers         87   \n",
      "14411  21400485 2015-01-02 19:00:00         Magic         Nets         98   \n",
      "14412  21400482 2015-01-01 20:00:00         Bulls      Nuggets        106   \n",
      "14413  21400483 2015-01-01 20:00:00  Timberwolves        Kings        107   \n",
      "\n",
      "       awayScore  home_win  \n",
      "14409         97         0  \n",
      "14410         91         0  \n",
      "14411        100         0  \n",
      "14412        101         1  \n",
      "14413        110         0  \n"
     ]
    }
   ],
   "source": [
    "import pandas as pd\n",
    "\n",
    "# 1️⃣ Cargar archivos\n",
    "games = pd.read_csv(\"../data/Games.csv\", parse_dates=[\"gameDate\"])\n",
    "team_stats = pd.read_csv(\"../data/TeamStatistics.csv\", parse_dates=[\"gameDate\"])\n",
    "\n",
    "# 2️⃣ Filtrar juegos desde 2015\n",
    "games = games[games[\"gameDate\"].dt.year >= 2015]\n",
    "team_stats = team_stats[team_stats[\"gameDate\"].dt.year >= 2015]\n",
    "\n",
    "# 3️⃣ Mantener solo columnas importantes\n",
    "games = games[[\"gameId\", \"gameDate\", \"hometeamName\", \"awayteamName\", \"homeScore\", \"awayScore\"]]\n",
    "team_stats = team_stats[[\n",
    "    \"gameId\", \"gameDate\", \"teamName\", \"opponentTeamName\", \"home\", \"teamScore\", \"opponentScore\",\n",
    "    \"assists\", \"reboundsTotal\", \"steals\", \"blocks\", \"turnovers\", \"fieldGoalsPercentage\",\n",
    "    \"threePointersPercentage\", \"freeThrowsPercentage\", \"seasonWins\", \"seasonLosses\"\n",
    "]]\n",
    "\n",
    "# 4️⃣ Crear etiqueta home_win\n",
    "games[\"home_win\"] = (games[\"homeScore\"] > games[\"awayScore\"]).astype(int)\n",
    "\n",
    "# 5️⃣ Revisar resultados\n",
    "print(\"Games shape:\", games.shape)\n",
    "print(\"TeamStatistics shape:\", team_stats.shape)\n",
    "print(\"Primeros juegos:\\n\", games.tail())\n"
   ]
  },
  {
   "cell_type": "code",
   "execution_count": 6,
   "id": "bffe8ca2",
   "metadata": {},
   "outputs": [
    {
     "ename": "KeyError",
     "evalue": "'home_seasonWins'",
     "output_type": "error",
     "traceback": [
      "\u001b[1;31m---------------------------------------------------------------------------\u001b[0m",
      "\u001b[1;31mKeyError\u001b[0m                                  Traceback (most recent call last)",
      "File \u001b[1;32m~\\AppData\\Local\\Packages\\PythonSoftwareFoundation.Python.3.11_qbz5n2kfra8p0\\LocalCache\\local-packages\\Python311\\site-packages\\pandas\\core\\indexes\\base.py:3805\u001b[0m, in \u001b[0;36mIndex.get_loc\u001b[1;34m(self, key)\u001b[0m\n\u001b[0;32m   3804\u001b[0m \u001b[38;5;28;01mtry\u001b[39;00m:\n\u001b[1;32m-> 3805\u001b[0m     \u001b[38;5;28;01mreturn\u001b[39;00m \u001b[38;5;28;43mself\u001b[39;49m\u001b[38;5;241;43m.\u001b[39;49m\u001b[43m_engine\u001b[49m\u001b[38;5;241;43m.\u001b[39;49m\u001b[43mget_loc\u001b[49m\u001b[43m(\u001b[49m\u001b[43mcasted_key\u001b[49m\u001b[43m)\u001b[49m\n\u001b[0;32m   3806\u001b[0m \u001b[38;5;28;01mexcept\u001b[39;00m \u001b[38;5;167;01mKeyError\u001b[39;00m \u001b[38;5;28;01mas\u001b[39;00m err:\n",
      "File \u001b[1;32mindex.pyx:167\u001b[0m, in \u001b[0;36mpandas._libs.index.IndexEngine.get_loc\u001b[1;34m()\u001b[0m\n",
      "File \u001b[1;32mindex.pyx:196\u001b[0m, in \u001b[0;36mpandas._libs.index.IndexEngine.get_loc\u001b[1;34m()\u001b[0m\n",
      "File \u001b[1;32mpandas\\\\_libs\\\\hashtable_class_helper.pxi:7081\u001b[0m, in \u001b[0;36mpandas._libs.hashtable.PyObjectHashTable.get_item\u001b[1;34m()\u001b[0m\n",
      "File \u001b[1;32mpandas\\\\_libs\\\\hashtable_class_helper.pxi:7089\u001b[0m, in \u001b[0;36mpandas._libs.hashtable.PyObjectHashTable.get_item\u001b[1;34m()\u001b[0m\n",
      "\u001b[1;31mKeyError\u001b[0m: 'home_seasonWins'",
      "\nThe above exception was the direct cause of the following exception:\n",
      "\u001b[1;31mKeyError\u001b[0m                                  Traceback (most recent call last)",
      "Cell \u001b[1;32mIn[6], line 52\u001b[0m\n\u001b[0;32m     44\u001b[0m games \u001b[38;5;241m=\u001b[39m games\u001b[38;5;241m.\u001b[39mmerge(away_stats[[\n\u001b[0;32m     45\u001b[0m     \u001b[38;5;124m\"\u001b[39m\u001b[38;5;124mgameId\u001b[39m\u001b[38;5;124m\"\u001b[39m, \u001b[38;5;124m\"\u001b[39m\u001b[38;5;124maway_teamScore\u001b[39m\u001b[38;5;124m\"\u001b[39m, \u001b[38;5;124m\"\u001b[39m\u001b[38;5;124maway_opponentScore\u001b[39m\u001b[38;5;124m\"\u001b[39m, \u001b[38;5;124m\"\u001b[39m\u001b[38;5;124maway_assists\u001b[39m\u001b[38;5;124m\"\u001b[39m, \u001b[38;5;124m\"\u001b[39m\u001b[38;5;124maway_reboundsTotal\u001b[39m\u001b[38;5;124m\"\u001b[39m,\n\u001b[0;32m     46\u001b[0m     \u001b[38;5;124m\"\u001b[39m\u001b[38;5;124maway_steals\u001b[39m\u001b[38;5;124m\"\u001b[39m, \u001b[38;5;124m\"\u001b[39m\u001b[38;5;124maway_blocks\u001b[39m\u001b[38;5;124m\"\u001b[39m, \u001b[38;5;124m\"\u001b[39m\u001b[38;5;124maway_turnovers\u001b[39m\u001b[38;5;124m\"\u001b[39m, \u001b[38;5;124m\"\u001b[39m\u001b[38;5;124maway_FG\u001b[39m\u001b[38;5;124m%\u001b[39m\u001b[38;5;124m\"\u001b[39m, \u001b[38;5;124m\"\u001b[39m\u001b[38;5;124maway_3P\u001b[39m\u001b[38;5;124m%\u001b[39m\u001b[38;5;124m\"\u001b[39m, \u001b[38;5;124m\"\u001b[39m\u001b[38;5;124maway_FT\u001b[39m\u001b[38;5;124m%\u001b[39m\u001b[38;5;124m\"\u001b[39m,\n\u001b[0;32m     47\u001b[0m     \u001b[38;5;124m\"\u001b[39m\u001b[38;5;124maway_seasonWins\u001b[39m\u001b[38;5;124m\"\u001b[39m, \u001b[38;5;124m\"\u001b[39m\u001b[38;5;124maway_seasonLosses\u001b[39m\u001b[38;5;124m\"\u001b[39m\n\u001b[0;32m     48\u001b[0m ]], on\u001b[38;5;241m=\u001b[39m\u001b[38;5;124m\"\u001b[39m\u001b[38;5;124mgameId\u001b[39m\u001b[38;5;124m\"\u001b[39m, how\u001b[38;5;241m=\u001b[39m\u001b[38;5;124m\"\u001b[39m\u001b[38;5;124mleft\u001b[39m\u001b[38;5;124m\"\u001b[39m)\n\u001b[0;32m     51\u001b[0m \u001b[38;5;66;03m# Winrate acumulado\u001b[39;00m\n\u001b[1;32m---> 52\u001b[0m games[\u001b[38;5;124m\"\u001b[39m\u001b[38;5;124mhome_winrate\u001b[39m\u001b[38;5;124m\"\u001b[39m] \u001b[38;5;241m=\u001b[39m \u001b[43mgames\u001b[49m\u001b[43m[\u001b[49m\u001b[38;5;124;43m\"\u001b[39;49m\u001b[38;5;124;43mhome_seasonWins\u001b[39;49m\u001b[38;5;124;43m\"\u001b[39;49m\u001b[43m]\u001b[49m \u001b[38;5;241m/\u001b[39m (games[\u001b[38;5;124m\"\u001b[39m\u001b[38;5;124mhome_seasonWins\u001b[39m\u001b[38;5;124m\"\u001b[39m] \u001b[38;5;241m+\u001b[39m games[\u001b[38;5;124m\"\u001b[39m\u001b[38;5;124mhome_seasonLosses\u001b[39m\u001b[38;5;124m\"\u001b[39m])\n\u001b[0;32m     53\u001b[0m games[\u001b[38;5;124m\"\u001b[39m\u001b[38;5;124maway_winrate\u001b[39m\u001b[38;5;124m\"\u001b[39m] \u001b[38;5;241m=\u001b[39m games[\u001b[38;5;124m\"\u001b[39m\u001b[38;5;124maway_seasonWins\u001b[39m\u001b[38;5;124m\"\u001b[39m] \u001b[38;5;241m/\u001b[39m (games[\u001b[38;5;124m\"\u001b[39m\u001b[38;5;124maway_seasonWins\u001b[39m\u001b[38;5;124m\"\u001b[39m] \u001b[38;5;241m+\u001b[39m games[\u001b[38;5;124m\"\u001b[39m\u001b[38;5;124maway_seasonLosses\u001b[39m\u001b[38;5;124m\"\u001b[39m])\n",
      "File \u001b[1;32m~\\AppData\\Local\\Packages\\PythonSoftwareFoundation.Python.3.11_qbz5n2kfra8p0\\LocalCache\\local-packages\\Python311\\site-packages\\pandas\\core\\frame.py:4102\u001b[0m, in \u001b[0;36mDataFrame.__getitem__\u001b[1;34m(self, key)\u001b[0m\n\u001b[0;32m   4100\u001b[0m \u001b[38;5;28;01mif\u001b[39;00m \u001b[38;5;28mself\u001b[39m\u001b[38;5;241m.\u001b[39mcolumns\u001b[38;5;241m.\u001b[39mnlevels \u001b[38;5;241m>\u001b[39m \u001b[38;5;241m1\u001b[39m:\n\u001b[0;32m   4101\u001b[0m     \u001b[38;5;28;01mreturn\u001b[39;00m \u001b[38;5;28mself\u001b[39m\u001b[38;5;241m.\u001b[39m_getitem_multilevel(key)\n\u001b[1;32m-> 4102\u001b[0m indexer \u001b[38;5;241m=\u001b[39m \u001b[38;5;28;43mself\u001b[39;49m\u001b[38;5;241;43m.\u001b[39;49m\u001b[43mcolumns\u001b[49m\u001b[38;5;241;43m.\u001b[39;49m\u001b[43mget_loc\u001b[49m\u001b[43m(\u001b[49m\u001b[43mkey\u001b[49m\u001b[43m)\u001b[49m\n\u001b[0;32m   4103\u001b[0m \u001b[38;5;28;01mif\u001b[39;00m is_integer(indexer):\n\u001b[0;32m   4104\u001b[0m     indexer \u001b[38;5;241m=\u001b[39m [indexer]\n",
      "File \u001b[1;32m~\\AppData\\Local\\Packages\\PythonSoftwareFoundation.Python.3.11_qbz5n2kfra8p0\\LocalCache\\local-packages\\Python311\\site-packages\\pandas\\core\\indexes\\base.py:3812\u001b[0m, in \u001b[0;36mIndex.get_loc\u001b[1;34m(self, key)\u001b[0m\n\u001b[0;32m   3807\u001b[0m     \u001b[38;5;28;01mif\u001b[39;00m \u001b[38;5;28misinstance\u001b[39m(casted_key, \u001b[38;5;28mslice\u001b[39m) \u001b[38;5;129;01mor\u001b[39;00m (\n\u001b[0;32m   3808\u001b[0m         \u001b[38;5;28misinstance\u001b[39m(casted_key, abc\u001b[38;5;241m.\u001b[39mIterable)\n\u001b[0;32m   3809\u001b[0m         \u001b[38;5;129;01mand\u001b[39;00m \u001b[38;5;28many\u001b[39m(\u001b[38;5;28misinstance\u001b[39m(x, \u001b[38;5;28mslice\u001b[39m) \u001b[38;5;28;01mfor\u001b[39;00m x \u001b[38;5;129;01min\u001b[39;00m casted_key)\n\u001b[0;32m   3810\u001b[0m     ):\n\u001b[0;32m   3811\u001b[0m         \u001b[38;5;28;01mraise\u001b[39;00m InvalidIndexError(key)\n\u001b[1;32m-> 3812\u001b[0m     \u001b[38;5;28;01mraise\u001b[39;00m \u001b[38;5;167;01mKeyError\u001b[39;00m(key) \u001b[38;5;28;01mfrom\u001b[39;00m\u001b[38;5;250m \u001b[39m\u001b[38;5;21;01merr\u001b[39;00m\n\u001b[0;32m   3813\u001b[0m \u001b[38;5;28;01mexcept\u001b[39;00m \u001b[38;5;167;01mTypeError\u001b[39;00m:\n\u001b[0;32m   3814\u001b[0m     \u001b[38;5;66;03m# If we have a listlike key, _check_indexing_error will raise\u001b[39;00m\n\u001b[0;32m   3815\u001b[0m     \u001b[38;5;66;03m#  InvalidIndexError. Otherwise we fall through and re-raise\u001b[39;00m\n\u001b[0;32m   3816\u001b[0m     \u001b[38;5;66;03m#  the TypeError.\u001b[39;00m\n\u001b[0;32m   3817\u001b[0m     \u001b[38;5;28mself\u001b[39m\u001b[38;5;241m.\u001b[39m_check_indexing_error(key)\n",
      "\u001b[1;31mKeyError\u001b[0m: 'home_seasonWins'"
     ]
    }
   ],
   "source": [
    "# Stats de home team\n",
    "home_stats = team_stats[team_stats[\"home\"] == 1].copy()\n",
    "home_stats = home_stats.rename(columns={\n",
    "    \"teamScore\": \"home_teamScore\",\n",
    "    \"opponentScore\": \"home_opponentScore\",\n",
    "    \"assists\": \"home_assists\",\n",
    "    \"reboundsTotal\": \"home_reboundsTotal\",\n",
    "    \"steals\": \"home_steals\",\n",
    "    \"blocks\": \"home_blocks\",\n",
    "    \"turnovers\": \"home_turnovers\",\n",
    "    \"fieldGoalsPercentage\": \"home_FG%\",\n",
    "    \"threePointersPercentage\": \"home_3P%\",\n",
    "    \"freeThrowsPercentage\": \"home_FT%\",\n",
    "    \"seasonWins\": \"home_seasonWins\",\n",
    "    \"seasonLosses\": \"home_seasonLosses\"\n",
    "})\n",
    "\n",
    "# Stats de away team\n",
    "away_stats = team_stats[team_stats[\"home\"] == 0].copy()\n",
    "away_stats = away_stats.rename(columns={\n",
    "    \"teamScore\": \"away_teamScore\",\n",
    "    \"opponentScore\": \"away_opponentScore\",\n",
    "    \"assists\": \"away_assists\",\n",
    "    \"reboundsTotal\": \"away_reboundsTotal\",\n",
    "    \"steals\": \"away_steals\",\n",
    "    \"blocks\": \"away_blocks\",\n",
    "    \"turnovers\": \"away_turnovers\",\n",
    "    \"fieldGoalsPercentage\": \"away_FG%\",\n",
    "    \"threePointersPercentage\": \"away_3P%\",\n",
    "    \"freeThrowsPercentage\": \"away_FT%\",\n",
    "    \"seasonWins\": \"away_seasonWins\",\n",
    "    \"seasonLosses\": \"away_seasonLosses\"\n",
    "})\n",
    "\n",
    "\n",
    "# Unir stats de home team\n",
    "games = games.merge(home_stats[[\n",
    "    \"gameId\", \"home_teamScore\", \"home_opponentScore\", \"home_assists\", \"home_reboundsTotal\",\n",
    "    \"home_steals\", \"home_blocks\", \"home_turnovers\", \"home_FG%\", \"home_3P%\", \"home_FT%\",\n",
    "    \"home_seasonWins\", \"home_seasonLosses\"\n",
    "]], on=\"gameId\", how=\"left\")\n",
    "\n",
    "# Unir stats de away team\n",
    "games = games.merge(away_stats[[\n",
    "    \"gameId\", \"away_teamScore\", \"away_opponentScore\", \"away_assists\", \"away_reboundsTotal\",\n",
    "    \"away_steals\", \"away_blocks\", \"away_turnovers\", \"away_FG%\", \"away_3P%\", \"away_FT%\",\n",
    "    \"away_seasonWins\", \"away_seasonLosses\"\n",
    "]], on=\"gameId\", how=\"left\")\n",
    "\n",
    "\n",
    "# Winrate acumulado\n",
    "games[\"home_winrate\"] = games[\"home_seasonWins\"] / (games[\"home_seasonWins\"] + games[\"home_seasonLosses\"])\n",
    "games[\"away_winrate\"] = games[\"away_seasonWins\"] / (games[\"away_seasonWins\"] + games[\"away_seasonLosses\"])\n",
    "\n"
   ]
  }
 ],
 "metadata": {
  "kernelspec": {
   "display_name": "Python 3",
   "language": "python",
   "name": "python3"
  },
  "language_info": {
   "codemirror_mode": {
    "name": "ipython",
    "version": 3
   },
   "file_extension": ".py",
   "mimetype": "text/x-python",
   "name": "python",
   "nbconvert_exporter": "python",
   "pygments_lexer": "ipython3",
   "version": "3.11.9"
  }
 },
 "nbformat": 4,
 "nbformat_minor": 5
}
